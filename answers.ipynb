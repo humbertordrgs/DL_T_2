{
  "nbformat": 4,
  "nbformat_minor": 0,
  "metadata": {
    "kernelspec": {
      "display_name": "Python 3",
      "language": "python",
      "name": "python3"
    },
    "language_info": {
      "codemirror_mode": {
        "name": "ipython",
        "version": 3
      },
      "file_extension": ".py",
      "mimetype": "text/x-python",
      "name": "python",
      "nbconvert_exporter": "python",
      "pygments_lexer": "ipython3",
      "version": "3.6.8"
    },
    "colab": {
      "name": "Answers DLT2",
      "provenance": [],
      "collapsed_sections": [
        "pcybEP7fXDSs",
        "nftKKxlBXDSx",
        "Nzp5SWKBXDSy",
        "1WNYoTIHXDS0"
      ]
    },
    "accelerator": "GPU"
  },
  "cells": [
    {
      "cell_type": "markdown",
      "metadata": {
        "id": "vEJLFL-H5axT"
      },
      "source": [
        "# Task 2: Backpropagation, Gradient descent and training <br/> CC6204 Deep Learning, Universidad de Chile  <br/>\n",
        "## Name: Humberto Rodrigues "
      ]
    },
    {
      "cell_type": "code",
      "metadata": {
        "id": "9rN1E2MUXDSn",
        "outputId": "271be033-7e9a-4cbc-f747-34f89ee8e3d8",
        "colab": {
          "base_uri": "https://localhost:8080/",
          "height": 459
        }
      },
      "source": [
        "import numpy as np\n",
        "import torch\n",
        "import torch.nn as nn\n",
        "\n",
        "# Autocorrect library\n",
        "!pip install -U \"git+https://github.com/dccuchile/CC6204.git@master#egg=cc6204&subdirectory=autocorrect\"\n",
        "from timeit import default_timer as timer"
      ],
      "execution_count": 14,
      "outputs": [
        {
          "output_type": "stream",
          "text": [
            "Collecting cc6204\n",
            "  Cloning https://github.com/dccuchile/CC6204.git (to revision master) to /tmp/pip-install-z5h8bc0n/cc6204\n",
            "  Running command git clone -q https://github.com/dccuchile/CC6204.git /tmp/pip-install-z5h8bc0n/cc6204\n",
            "Requirement already satisfied, skipping upgrade: requests in /usr/local/lib/python3.6/dist-packages (from cc6204) (2.23.0)\n",
            "Requirement already satisfied, skipping upgrade: numpy in /usr/local/lib/python3.6/dist-packages (from cc6204) (1.18.5)\n",
            "Requirement already satisfied, skipping upgrade: torch in /usr/local/lib/python3.6/dist-packages (from cc6204) (1.6.0+cu101)\n",
            "Requirement already satisfied, skipping upgrade: urllib3!=1.25.0,!=1.25.1,<1.26,>=1.21.1 in /usr/local/lib/python3.6/dist-packages (from requests->cc6204) (1.24.3)\n",
            "Requirement already satisfied, skipping upgrade: chardet<4,>=3.0.2 in /usr/local/lib/python3.6/dist-packages (from requests->cc6204) (3.0.4)\n",
            "Requirement already satisfied, skipping upgrade: certifi>=2017.4.17 in /usr/local/lib/python3.6/dist-packages (from requests->cc6204) (2020.6.20)\n",
            "Requirement already satisfied, skipping upgrade: idna<3,>=2.5 in /usr/local/lib/python3.6/dist-packages (from requests->cc6204) (2.10)\n",
            "Requirement already satisfied, skipping upgrade: future in /usr/local/lib/python3.6/dist-packages (from torch->cc6204) (0.16.0)\n",
            "Building wheels for collected packages: cc6204\n",
            "  Building wheel for cc6204 (setup.py) ... \u001b[?25l\u001b[?25hdone\n",
            "  Created wheel for cc6204: filename=cc6204-0.3.2-cp36-none-any.whl size=4708 sha256=3f1be047602d2e347903841cde483027064485751ccf863b26685e0ece463009\n",
            "  Stored in directory: /tmp/pip-ephem-wheel-cache-pojql6pr/wheels/62/f0/30/aadcb7ce24a2f9c935890518e902d4e23bf97b80f47bb64414\n",
            "Successfully built cc6204\n",
            "Installing collected packages: cc6204\n",
            "  Found existing installation: cc6204 0.3.2\n",
            "    Uninstalling cc6204-0.3.2:\n",
            "      Successfully uninstalled cc6204-0.3.2\n",
            "Successfully installed cc6204-0.3.2\n"
          ],
          "name": "stdout"
        },
        {
          "output_type": "display_data",
          "data": {
            "application/vnd.colab-display-data+json": {
              "pip_warning": {
                "packages": [
                  "cc6204"
                ]
              }
            }
          },
          "metadata": {
            "tags": []
          }
        }
      ]
    },
    {
      "cell_type": "code",
      "metadata": {
        "id": "PVhyLn9G5NJV",
        "outputId": "2d0cdecb-26d3-4e9e-d759-878e03c4de06",
        "colab": {
          "base_uri": "https://localhost:8080/",
          "height": 34
        }
      },
      "source": [
        "# Setting-up auto-correct utility\n",
        "from cc6204 import AutoCorrect, FailedTest\n",
        "\n",
        "corrector = AutoCorrect(host=\"cc6204.dcc.uchile.cl\", port=443)\n",
        "token = \"]ye/Ox;nsz\""
      ],
      "execution_count": 15,
      "outputs": [
        {
          "output_type": "stream",
          "text": [
            "Connection stablished\n"
          ],
          "name": "stdout"
        }
      ]
    },
    {
      "cell_type": "markdown",
      "metadata": {
        "id": "fg8i3agyXDSr"
      },
      "source": [
        "# Part 1: Activation and Loss functions\n"
      ]
    },
    {
      "cell_type": "markdown",
      "metadata": {
        "id": "NbzcMAkOXDSr"
      },
      "source": [
        "## 1a) Derivating activation functions:\n",
        "The first step we need to make is to define the form of the derivative expression for each activation function we will be testing."
      ]
    },
    {
      "cell_type": "markdown",
      "metadata": {
        "id": "pcybEP7fXDSs"
      },
      "source": [
        "*   ### Relu: \n",
        "  Analyzing the definition of this activation function we noticed that it's corresponding derivative expression is trivial and should be created as a `piecewise function` like `Relu` itself. \n",
        "\n",
        "  * **Function Definition**:\n",
        "\n",
        "    \\begin{equation}\n",
        "      \\text{relu}(x) = \n",
        "        \\begin{cases}\n",
        "           \\text{x if x} \\geq0 \\\\\n",
        "          0 \\text{ otherwise.} \\\\ \n",
        "        \\end{cases}\n",
        "    \\end{equation}\n",
        "\n",
        "  * **Derivative Expression**:\n",
        "\n",
        "    \\begin{equation}\n",
        "      \\frac{\\partial\\ \\text{relu}(x)}{\\partial x} = \n",
        "        \\begin{cases}\n",
        "          1 \\text{ if x} \\geq0 \\\\\n",
        "          0 \\text{ otherwise.} \\\\ \n",
        "        \\end{cases}\n",
        "    \\end{equation}\n",
        "<br>\n",
        "\n",
        "*   ### Swish:\n",
        "  In this case it is important to notice that `swish` is defined in terms of `sigmoid` function and we will be using that to create a more compact derivative expression but it also implies that we will need to calculate the derivative expression for sigmoid as well.\n",
        "\n",
        "  * **Function Definitions**:\n",
        "\n",
        "    \\begin{equation}\n",
        "      \\text{sigmoid}(\\beta x) = \\frac{1}{1 + e^{- \\beta x}} \n",
        "    \\end{equation}\n",
        "\n",
        "    \\begin{equation}\n",
        "      \\text{swish}(x,\\beta) = x \\cdot sigmoid(\\beta x) \n",
        "    \\end{equation}\n",
        "\n",
        "  The idea behind adding $ \\beta $ as a parameter instead of using a fixed value is estimate a good value for it with the model we will be creating.\n",
        "\n",
        "  * **Derivative Expression**:\n",
        "\n",
        "      The first thing is estimate the corresponding derivative expression for sigmoid which is: \n",
        "\n",
        "     <br>\n",
        "\n",
        "      \\begin{equation}\n",
        "        \\frac{\\partial\\ \\text{sigmoid}(\\beta x)}{\\partial x} = \\frac{\\beta e^{- \\beta x}}{(1 + e^{- \\beta x})^2}\n",
        "      \\end{equation}\n",
        "\n",
        "     From here we will apply some mathematic tricks like adding and substracting one to simplify this expresion and get a result in terms of sigmoid itself.\n",
        "\n",
        "      \\begin{equation}\n",
        "        \\frac{\\beta e^{- \\beta x}}{(1 + e^{- \\beta x})^2} = \\frac{\\beta}{(1 + e^{- \\beta x})} \\cdot \\frac{1 + e^{- \\beta x} - 1 }{(1 + e^{- \\beta x})}\n",
        "        = \\frac{\\beta}{(1 + e^{- \\beta x})} \\cdot (1 - \\frac{1}{(1+e^{- \\beta x})})\n",
        "      \\end{equation}\n",
        "\n",
        "      Now we can see that the `left` part of the expression is equivalent to $\\beta \\cdot sigmoid(\\beta x) $ and the `right` part it can be written like $1 - sigmoid(\\beta x) $ so the final derivative expressions for sigmoid we will be using are: \n",
        "\n",
        "      <br>sigmoid(\\beta x) + \\beta \\cdot swish(\\beta x) \\cdot (1 - sigmoid(\\beta x)))\n",
        "      \\begin{equation}\n",
        "        \\frac{\\partial\\ \\text{sigmoid}(\\beta x)}{\\partial x} = \\beta \\cdot sigmoid(\\beta x) \\cdot (1 - sigmoid(\\beta x))\n",
        "      \\end{equation}\n",
        "\n",
        "      <br>\n",
        "      \\begin{equation}\n",
        "        \\frac{\\partial\\ \\text{sigmoid}(\\beta x)}{\\partial \\beta} = x \\cdot sigmoid(\\beta x) \\cdot (1 - sigmoid(\\beta x))\n",
        "      \\end{equation}\n",
        "      <br>\n",
        "\n",
        "      Finally we can express the derivative expressions for `swish`  using the `derivative product rule` as:\n",
        "\n",
        "      \\begin{equation}\n",
        "        \\frac{\\partial\\ \\text{swish}(x,\\beta)}{\\partial x} = x' \\cdot sigmoid(\\beta x) + x \\cdot sigmoid(\\beta x)'\n",
        "      \\end{equation}\n",
        "\n",
        "      \\begin{equation}\n",
        "        \\frac{\\partial\\ \\text{swish}(x,\\beta)}{\\partial x} = sigmoid(\\beta x) + x \\cdot (\\beta \\cdot sigmoid(\\beta x) \\cdot (1 - sigmoid(\\beta x)))\n",
        "      \\end{equation}\n",
        "\n",
        "      <br>\n",
        "\n",
        "      \\begin{equation}\n",
        "        \\frac{\\partial\\ \\text{swish}(x,\\beta)}{\\partial x} = swish(x,\\beta) \\cdot (\\frac{1}{x \\cdot \\beta} + 1 - \\frac{swish(x,\\beta)}{x} )\n",
        "      \\end{equation}\n",
        "      \n",
        "      And the derivative expression for `swish` in terms of $\\beta$ will be:\n",
        "\n",
        "      <br>\n",
        "\n",
        "      \\begin{equation}\n",
        "        \\frac{\\partial\\ \\text{swish}(x,\\beta)}{\\partial \\beta} = x^{2} \\cdot ( sigmoid(\\beta x) \\cdot (1 - sigmoid(\\beta x))\n",
        "      \\end{equation}\n",
        "      \n",
        "      <br>\n",
        "      \n",
        "      \\begin{equation}\n",
        "        \\frac{\\partial\\ \\text{swish}(x,\\beta)}{\\partial \\beta} = swish(x,\\beta) \\cdot (x - swish(x,\\beta))\n",
        "      \\end{equation}\n",
        "\n",
        "\n",
        "      \n",
        "      \n",
        " *   ### CELU:\n",
        "  This case is pretty similiar to the `RELU` we will be expressing `CELU` as a \n",
        " `piecewise function` and it is respective derivative function will be the same as well:\n",
        "  <br>\n",
        "\n",
        "  * **Function Definition**:\n",
        "\n",
        "    \\begin{equation}\n",
        "      \\text{celu}(x,\\alpha) = \n",
        "        \\begin{cases}\n",
        "          \\text{x if x} \\geq0 \\\\\n",
        "          \\alpha \\cdot (e^{\\frac{x}{\\alpha}} - 1) \\text{ otherwise.} \\\\ \n",
        "        \\end{cases}\n",
        "    \\end{equation}\n",
        "\n",
        "  * **Derivative Expression**:\n",
        "\n",
        "    \\begin{equation}\n",
        "      \\frac{\\partial\\ \\text{celu}(x,\\alpha)}{\\partial x} = \n",
        "        \\begin{cases}\n",
        "          1 \\text{ if x} \\geq0 \\\\\n",
        "          e^{\\frac{x}{\\alpha}} \\text{ otherwise.} \\\\ \n",
        "        \\end{cases}\n",
        "    \\end{equation}\n",
        "\n",
        "    <br>\n",
        "\n",
        "    \\begin{equation}\n",
        "      \\frac{\\partial\\ \\text{celu}(x,\\alpha)}{\\partial \\alpha} = \n",
        "        \\begin{cases}\n",
        "          0 \\text{ if x} \\geq0 \\\\\n",
        "          e^{\\frac{x}{\\alpha}} \\cdot (1 - \\frac{x}{\\alpha}) - 1 \\text{ otherwise.} \\\\ \n",
        "        \\end{cases}\n",
        "    \\end{equation}\n",
        "\n"
      ]
    },
    {
      "cell_type": "markdown",
      "metadata": {
        "id": "Q89Y1d6r5x6H"
      },
      "source": [
        "## 1a-2) Implementing Derivative expressions:"
      ]
    },
    {
      "cell_type": "code",
      "metadata": {
        "id": "6QfQVggvNuv9"
      },
      "source": [
        "# This is the most common approach to implement the derivative expressions\n",
        "# the gradient parameter is use to determine if should be evaluated\n",
        "# the function itself or it's corresponding derivative\n",
        "\n",
        "def tanh(T):\n",
        "  E = torch.exp(T)\n",
        "  e = torch.exp(-1 * T)\n",
        "  return (E - e) * torch.reciprocal(E + e)\n",
        "\n",
        "def tanh_dx(T):\n",
        "  return 1 - tanh(T)^2\n",
        "\n",
        "def softmax(T, dim=1, stable=True):\n",
        "  maxes = torch.max(T, dim, keepdim=True)[0] if stable else 0\n",
        "  x_exp = torch.exp(T-maxes)\n",
        "  x_exp_sum = torch.sum(x_exp, dim, keepdim=True)\n",
        "  return x_exp/x_exp_sum\n",
        "\n",
        "def relu(T):\n",
        "  return torch.max(T,torch.zeros(T.size(),device=T.device))\n",
        "\n",
        "def swish(T, beta=1.0):\n",
        "  return T * sig(beta * T)\n",
        "\n",
        "def celu(T, alpha=1.0):\n",
        "  zero_T = torch.zeros(T.size(),device=T.device)\n",
        "  return torch.max(T,zero_T) + torch.min(alpha * (torch.exp(T/alpha) - 1),zero_T)\n",
        "\n",
        "\n",
        "def sig(T, gradient=False):\n",
        "  if gradient:\n",
        "    sigT = sig(T)\n",
        "    return sigT * (1 - sigT)\n",
        "  return torch.reciprocal(1 + torch.exp(-1 * T))\n",
        "\n",
        "def relu_dx(T):\n",
        "  X = T.clone()\n",
        "  X[X >= 0] = 1\n",
        "  X[X < 0] = 0\n",
        "  return X\n",
        "\n",
        "def swish_dx(T, beta=1.0):\n",
        "  X = T.clone()\n",
        "  sig_bx = sig(beta*X)\n",
        "  return sig_bx + beta * X * sig_bx * (1 - sig_bx)\n",
        "\n",
        "\n",
        "def swish_db(T, beta=1.0):\n",
        "  X = T.clone()\n",
        "  sig_bx = sig(beta*X)\n",
        "  return  X * X * sig_bx * (1 - sig_bx)\n",
        "       \n",
        " \n",
        "def celu_dx(T, alpha=1.0):\n",
        "  X = T.clone()\n",
        "  X[X >= 0] = 0\n",
        "  x_alpha = X[X < 0] / alpha\n",
        "  X[X < 0] = torch.exp(x_alpha)\n",
        "  return X\n",
        "                      \n",
        "def celu_da(T, alpha=1.0):\n",
        "  X = T.clone()\n",
        "  X[X >= 0] = 0\n",
        "  x_alpha = X[X < 0] / alpha\n",
        "  X[X < 0] = (torch.exp(x_alpha) * (1 - x_alpha)) - 1\n",
        "  return X\n",
        "\n",
        "activation_dx = {\"relu\": relu_dx, \"celu\": celu_dx, \"swish\": swish_dx}\n",
        "activation_dp = {\"celu\": celu_da, \"swish\": swish_db}"
      ],
      "execution_count": 16,
      "outputs": []
    },
    {
      "cell_type": "markdown",
      "metadata": {
        "id": "ifPp_c1eXDSt"
      },
      "source": [
        "## 1b) Implementing Cross Entropy Loss\n"
      ]
    },
    {
      "cell_type": "code",
      "metadata": {
        "id": "w4wXj3AUXDSu"
      },
      "source": [
        "def CELoss(Q, P, estable=True, epsilon=1e-8):\n",
        "  if estable:\n",
        "    Q[Q < epsilon] = epsilon\n",
        "  return torch.mean(-torch.sum(P*torch.log(Q),-1))"
      ],
      "execution_count": 17,
      "outputs": []
    },
    {
      "cell_type": "code",
      "metadata": {
        "id": "qrjGpVdg4xi1",
        "outputId": "434fb776-4122-4496-9750-0251d23d2419",
        "colab": {
          "base_uri": "https://localhost:8080/",
          "height": 153
        }
      },
      "source": [
        "# Tests del API del curso\n",
        "for test in ['small', 'estable', 'eps', 'no-estable']:\n",
        "  # Obtengamos dos distribuciones de probabilidad y los parametros estable y epsilon\n",
        "  Q, P, estable, eps = corrector.get_test_data(homework=2, question=\"1b\", test=test, token=token)\n",
        "  # Corramos tu implementacion de CELoss para ver como se comporta\n",
        "  s = timer()\n",
        "  result = CELoss(Q=torch.Tensor(Q), P=torch.Tensor(P), estable=estable, epsilon=eps)\n",
        "  t = timer() - s\n",
        "  corrector.sumbit(homework=2, question=\"1b\", test=test, token=token, answer=result, time=0)"
      ],
      "execution_count": 18,
      "outputs": [
        {
          "output_type": "stream",
          "text": [
            "Using cached test data\n",
            "Correct Test!\n",
            "Using cached test data\n",
            "Correct Test!\n",
            "Using cached test data\n",
            "Correct Test!\n",
            "Using cached test data\n",
            "Correct Test!\n"
          ],
          "name": "stdout"
        }
      ]
    },
    {
      "cell_type": "markdown",
      "metadata": {
        "id": "EwedMCZjXDSw"
      },
      "source": [
        "# Part 2: More derivatives expressions"
      ]
    },
    {
      "cell_type": "markdown",
      "metadata": {
        "id": "nftKKxlBXDSx"
      },
      "source": [
        "## 2a) Calculating derivative expressions\n",
        "The first thing we need to do is calculate how we will be propagating the error obtained in our `loss` function to every parameter of our neural network. This will be done using the backpropagation algorithm which consist basically in pass the error from the last layer of our model to the first of them going layer by layer and modifying each parameter depending on how much of the result is affected by it.\n",
        "\n",
        "To be able to apply this method we will need to calculate the corresponding derivative expression for our `loss` function in terms of all the parameters of our model using the derivative chain rule."
      ]
    },
    {
      "cell_type": "markdown",
      "metadata": {
        "id": "WDBD96xWXDSx"
      },
      "source": [
        "Before starting the calculation of the derivative expressions we will need to make some definitions that will be useful in this task.\n",
        "<br>\n",
        "\n",
        "\n",
        "$$u^{(L+1)} = h^{(L)} U + c$$\n",
        "\n",
        "$$\\hat{y} = softmax(u^{(L+1)})$$\n",
        "\n",
        "<br>\n",
        "\n",
        "it is possible to notice that we are using `softmax` as the output function for this reason the first step we will do is estimate the derivative expressions for it and use them as definitions in the future steps.\n",
        "\n",
        "<br>\n",
        "\n",
        "\\begin{equation}\n",
        "\\frac{\\partial x_i}{\\partial x_j} = \\frac{(\\frac{\\partial e^{x_i}}{\\partial x_j} \\cdot \\sum_k{e^{x_k}}) - (e^{x_i} \\cdot \\frac{\\partial \\sum_k{e^{x_k}}}{\\partial x_j})}{(\\sum_k{e^{x_k}})^2}\n",
        "\\end{equation}\n",
        "\n",
        "\n",
        "\n",
        "As we can see in that general derivative expression of softmax we will have two possible scenarios:\n",
        "\n",
        "* Scenario $i=j$, then we can simplify \n",
        "\n",
        "  \\begin{equation}\n",
        "  \\frac{\\partial x_i}{\\partial x_i} = \\frac{(\\frac{\\partial e^{x_i}}{\\partial x_i} \\cdot \\sum_k{e^{x_k}}) - (e^{x_i} \\cdot \\frac{\\partial \\sum_k{e^{x_k}}}{\\partial x_i})}{(\\sum_k{e^{x_k}})^2}\n",
        "  \\end{equation}\n",
        "\n",
        "  \\begin{equation}\n",
        "  \\frac{\\partial x_i}{\\partial x_i} = \\frac{(e^{x_i} \\cdot \\sum_k{e^{x_k}}) - (e^{x_i} \\cdot e^{x_i})}{(\\sum_k{e^{x_k}})^2}\n",
        "  \\end{equation}\n",
        "\n",
        "  \\begin{equation}\n",
        "  \\frac{\\partial x_i}{\\partial x_i} = \\frac{e^{x_i} \\cdot ( \\sum_k{e^{x_k}} - e^{x_i})}{(\\sum_k{e^{x_k}})^2}\n",
        "  \\end{equation}\n",
        "\n",
        "  <br>\n",
        "  \\begin{equation}\n",
        "  \\frac{\\partial x_i}{\\partial x_i} = \\frac{e^{x_i}}{\\sum_k{e^{x_k}}} \\cdot \\frac{( \\sum_k{e^{x_k}} - e^{x_i})}{\\sum_k{e^{x_k}}}\n",
        "  \\end{equation}\n",
        "\n",
        "  \\begin{equation}\n",
        "  \\frac{\\partial x_i}{\\partial x_i} = \\frac{e^{x_i}}{\\sum_k{e^{x_k}}} \\cdot \\frac{\\sum_k{e^{x_k}} \\cdot (1 - \\frac{e^{x_i}}{\\sum_k{e^{x_k}}})}{\\sum_k{e^{x_k}}}\n",
        "  \\end{equation}\n",
        "\n",
        "  \\begin{equation}\n",
        "  \\frac{\\partial x_i}{\\partial x_i} = \\frac{e^{x_i}}{\\sum_k{e^{x_k}}} \\cdot (1 - \\frac{e^{x_i}}{\\sum_k{e^{x_k}}})\n",
        "  \\end{equation}\n",
        "\n",
        "  <br>\n",
        "  And this expression can be interpreted as:\n",
        "  \\begin{equation}\n",
        "  \\frac{\\partial x_i}{\\partial x_i} = softmax(x_i) \\cdot (1 - softmax(x_i))\n",
        "  \\end{equation}\n",
        "\n",
        "  <br>\n",
        "* Scenario $i \\neq j$, we can simplify  \n",
        "\n",
        "  <br>\n",
        "\n",
        "  \\begin{equation}\n",
        "  \\frac{\\partial x_i}{\\partial x_j} = \\frac{(0 \\cdot \\sum_k{e^{x_k}}) - (e^{x_i} \\cdot e^{x_j})}{(\\sum_k{e^{x_k}})^2}\n",
        "  \\end{equation}\n",
        "\n",
        "  \\begin{equation}\n",
        "  \\frac{\\partial x_i}{\\partial x_j} = \\frac{-e^{x_i} \\cdot e^{x_j}}{(\\sum_k{e^{x_k}})^2}\n",
        "  \\end{equation}\n",
        "\n",
        "  \\begin{equation}\n",
        "  \\frac{\\partial x_i}{\\partial x_j} = \\frac{-e^{x_i}}{\\sum_k{e^{x_k}}} \\cdot \\frac{e^{x_j}}{\\sum_k{e^{x_k}}}\n",
        "  \\end{equation}\n",
        "\n",
        "  Now we can express the last equation in terms of softmax as we did with the previous case:\n",
        "\n",
        "  <br>\n",
        "  \\begin{equation}\n",
        "  \\frac{\\partial x_i}{\\partial x_j} = -softmax(x_i) \\cdot softmax(x_j)\n",
        "  \\end{equation}\n",
        "\n",
        "<br>\n",
        "\n",
        "Finally we can express the derivative expression of $\\cal L$ in terms of $u^{(L+1)}$ using the derivative rule of chain as follows:\n",
        "\n",
        "<br>\n",
        "\n",
        "\\begin{equation}\n",
        "\\frac{\\partial \\cal L}{\\partial u^{(L+1)}} = \\frac{\\partial \\cal L}{\\partial \\hat{y}} \\cdot \\frac{\\partial \\hat{y}}{\\partial u^{(L+1)}}\n",
        "\\end{equation}\n",
        "\n",
        "As we explored before, softmax has two different derivative expressions that apply in two distinct scenarios for this reason we will be doing some matemathic tricks to use the right one depending on the case:\n",
        "\n",
        "The first thing is that based on `Einstein notation` we will be adding some sub indexes to all well known dimension:\n",
        "\n",
        "\\begin{equation}\n",
        "\\frac{\\partial \\cal L}{\\partial u^{(L+1)}}_{b,j} = \\frac{\\partial \\cal L}{\\partial \\hat{y}_{b}} \\cdot \\frac{\\partial \\hat{y}_{b}}{\\partial u^{(L+1)}}_{b,j}\n",
        "\\end{equation}\n",
        "\n",
        "<br>\n",
        "\n",
        "Now we will express the derivative of $\\cal L$ in terms of $\\hat{y}_b$. For this we will be using the definition of our **Cross Entropy Loss** and calculate his derivative expression. It is important to notice that the $\\hat{y}$ is a tensor of dimension (B,C) but we are only adding one sub index to it because the second one will be use to split the cases of the softmax.\n",
        "\n",
        "<br>\n",
        "\n",
        "\\begin{equation}\n",
        "\\frac{\\partial \\cal L}{\\partial \\hat{y}\n",
        "} = \\frac{\\partial -\\frac{1}{N} \\cdot (\\sum_k^N{\\sum_i^C{y_{ki} \\cdot log(\\hat{y}_{ki})}})}{\\partial \\hat{y}}\n",
        "\\end{equation}\n",
        "\n",
        "we can remove external summatory based on $k$ because will only be different than 0 when $k=b$.\n",
        "\n",
        "\\begin{equation}\n",
        "\\frac{\\partial \\cal L}{\\partial \\hat{y}_b} = \\frac{\\partial -\\frac{1}{N} \\cdot \\sum_i^C{y_{bi} \\cdot log(\\hat{y}_{bi})}}{\\partial \\hat{y_b}}\n",
        "\\end{equation}\n",
        "\n",
        "<br>\n",
        "\n",
        "Now we will extract from the summatory the case where $i = j$:\n",
        "\n",
        "<br>\n",
        "\n",
        "\\begin{equation}\n",
        "\\frac{\\partial \\cal L}{\\partial \\hat{y}_b} = \\frac{\\partial -\\frac{1}{N} \\cdot \\sum_{i \\neq j}^C{y_{bi} \\cdot log(\\hat{y}_{bi})} - y_{bj} \\cdot log(\\hat{y}_{bj})} {\\partial \\hat{y_b}}\n",
        "\\end{equation}\n",
        "\n",
        "\\begin{equation}\n",
        "\\frac{\\partial \\cal L}{\\partial \\hat{y}_b} = -\\frac{1}{N} \\cdot \\sum_{i \\neq j}^C{\\frac{y_{bi} }{\\hat{y}_{bi}}} - \\frac{y_{bj}}{\\hat{y}_{bj}}\n",
        "\\end{equation}\n",
        "\n",
        "<br>\n",
        " \n",
        " Notice that if we keep derivating the $\\hat{y}_{bi}$ and $\\hat{\\hat{y}}_{bj}$ applying the chain rule what we will obtain is in fact our goal which is:\n",
        "$\\frac{\\partial \\cal L}{\\partial u^{(L+1)}}_{b,j}$\n",
        "\n",
        "\\begin{equation}\n",
        "\\frac{\\partial \\cal L}{\\partial u^{(L+1)}}_{b,j} = -\\frac{1}{N} \\cdot \\sum_{i \\neq j}^C{\\frac{y_{bi} }{\\hat{y}_{bi}} \\cdot \\frac{\\partial \\hat{y}_{bi}} {\\partial u^{(L+1)}}_{b,j}} - \\frac{y_{bj}}{\\hat{y}_{bj}} \\cdot \\frac{\\partial \\hat{y}_{bj}} {\\partial u^{(L+1)}}_{b,j}\n",
        "\\end{equation}\n",
        "\n",
        "In this step we can notice that each one of the derivative expressions we need to calculate for $\\hat{y}$ corresponds to the two different cases of the softmax we detailed before, replacing that obtained expressions in terms of our current equation resulting in:\n",
        "\n",
        "\\begin{equation}\n",
        "\\frac{\\partial \\cal L}{\\partial u^{(L+1)}}_{b,j} = -\\frac{1}{N} \\cdot \\sum_{i \\neq j}^C{(\\frac{y_{bi} }{\\hat{y}_{bi}} \\cdot - \\hat{y}_{bi} \\cdot \\hat{y}_{bj}) } - (\\frac{y_{bj}}{\\hat{y}_{bj}} \\cdot \\hat{y}_{bj} \\cdot (1 - \\hat{y}_{bj})) \n",
        "\\end{equation}\n",
        "\n",
        "From here we need to simplify the expression in a way is easy and afficient to compute\n",
        "\n",
        "<br>\n",
        "\n",
        "\\begin{equation}\n",
        "\\frac{\\partial \\cal L}{\\partial u^{(L+1)}}_{b,j} = -\\frac{1}{N} \\cdot \\sum_{i \\neq j}^C{-(y_{bi} \\cdot \\hat{y}_{bj}) } - (y_{bj} \\cdot (1 - \\hat{y}_{bj})) \n",
        "\\end{equation}\n",
        "\n",
        "\n",
        "\\begin{equation}\n",
        "\\frac{\\partial \\cal L}{\\partial u^{(L+1)}}_{b,j} = -\\frac{1}{N} \\cdot \\sum_{i \\neq j}^C{-(y_{bi} \\cdot \\hat{y}_{bj}) } - y_{bj} - (y_{bj} \\cdot \\hat{y}_{bj})\n",
        "\\end{equation}\n",
        "\n",
        "The next step is to put back the case where $ i = j $ into our summatory\n",
        "\n",
        "\\begin{equation}\n",
        "\\frac{\\partial \\cal L}{\\partial u^{(L+1)}}_{b,j} = -\\frac{1}{N} \\cdot \\sum_{i}^C{-y_{bi} \\cdot \\hat{y}_{bj} } - y_{bj}\n",
        "\\end{equation}\n",
        "\n",
        "We can see that $-\\hat{y_{bj}}$ is not depending on the summatory so we can take it out\n",
        "\n",
        "\n",
        "\\begin{equation}\n",
        "\\frac{\\partial \\cal L}{\\partial u^{(L+1)}}_{b,j} = \\frac{1}{N} \\cdot (\\hat{y}_{bj} \\cdot \\sum_{i}^C{y_{bi} } - y_{bj})\n",
        "\\end{equation}\n",
        "\n",
        "\n",
        "Finally $\\sum_{i}^C{y_{bi} }$ is a probability distribution which total sum value is $1$ and returning back the `Einstein notation` we get:\n",
        "\n",
        "\n",
        "\\begin{equation}\n",
        "\\frac{\\partial \\cal L}{\\partial u^{(L+1)}} = \\frac{\\hat{y}- y}{N}\n",
        "\\end{equation}\n",
        "\n"
      ]
    },
    {
      "cell_type": "markdown",
      "metadata": {
        "id": "Nzp5SWKBXDSy"
      },
      "source": [
        "## 2b) Derivating the rest of the last layer"
      ]
    },
    {
      "cell_type": "markdown",
      "metadata": {
        "id": "n9cubvpeXDSz"
      },
      "source": [
        "<br>\n",
        "\n",
        "\\begin{equation}\n",
        "\\frac{\\partial\\cal L}{\\partial U} = \\frac{\\partial \\cal L}{\\partial u^{(L+1)}} \\cdot \\frac{\\partial u^{(L+1)} }{\\partial U}\n",
        "\\end{equation}\n",
        "\n",
        "The first step as always is setup `Einstein Notation`\n",
        "\n",
        "\\begin{equation}\n",
        "\\frac{\\partial\\cal L}{\\partial U_{ij}} = \\frac{\\partial \\cal L}{\\partial u_{ab}^{(L+1)}} \\cdot \\frac{\\partial u_{ab}^{(L+1)} }{\\partial U_{ij}}\n",
        "\\end{equation}\n",
        "\n",
        "We replace using the definition of $u_{ab}^{(L+1)}$\n",
        "\n",
        "\n",
        "\\begin{equation}\n",
        "\\frac{\\partial\\cal L}{\\partial U_{ij}} = \\frac{\\partial \\cal L}{\\partial u_{ab}^{(L+1)}} \\cdot \\frac{\\partial h_{ak}^{(L)} U_{kb} + c }{\\partial U_{ij}} \n",
        "\\end{equation}\n",
        "\n",
        "Then we noticed that the only expression different than 0 is when $k=i, b=j$\n",
        "\n",
        "\\begin{equation}\n",
        "\\frac{\\partial\\cal L}{\\partial U_{ij}} = \\frac{\\partial \\cal L}{\\partial u_{aj}^{(L+1)}} \\cdot \\frac{\\partial h_{ai}^{(L)} U_{ij} + c }{\\partial U_{ij}}\n",
        "\\end{equation}\n",
        "\n",
        "\n",
        "\\begin{equation}\n",
        "\\frac{\\partial\\cal L}{\\partial U_{ij}} = \\frac{\\partial \\cal L}{\\partial u_{aj}^{(L+1)}} \\cdot h_{ai}^{(L)}\n",
        "\\end{equation}\n",
        "\n",
        "Analyzing the indexes $j, i$ we can notice that we need to apply some transformation to $h_{ai}^{(L)}$  before be able to multiply by the rest of the expression. This transformation is nothing more than a transposition in it is dimensions.\n",
        "\n",
        "\\begin{equation}\n",
        "\\frac{\\partial\\cal L}{\\partial U_{ij}} = (h_{ai}^{(L)})^T \\cdot \\frac{\\partial \\cal L}{\\partial u_{aj}^{(L+1)}}\n",
        "\\end{equation}\n",
        "\n",
        "Finally we just revert `Einstein Notation`\n",
        "\n",
        "\\begin{equation}\n",
        "\\frac{\\partial\\cal L}{\\partial U} = (h^{(L)})^T \\cdot \\frac{\\partial \\cal L}{\\partial u^{(L+1)}}\n",
        "\\end{equation}\n",
        "\n",
        "<br>\n",
        "\n",
        "---\n",
        "<br>\n",
        "\n",
        "\\begin{equation}\n",
        "\\frac{\\partial\\cal L}{\\partial c} = \\frac{\\partial \\cal L}{\\partial u^{(L+1)}} \\cdot \\frac{\\partial u^{(L+1)} }{\\partial c} = \\frac{\\partial \\cal L}{\\partial u^{(L+1)}} \\cdot \\frac{\\partial h^{(L)} U + c }{\\partial c} = \\frac{\\partial \\cal L}{\\partial u^{(L+1)}} \\cdot 1 (\\text{tensor}) = Sum(\\frac{\\partial \\cal L}{\\partial u^{(L+1)}})\n",
        "\\end{equation}\n",
        "\n",
        "<br>\n",
        "\n",
        "---\n",
        "\n",
        "<br>\n",
        "\n",
        "\\begin{equation}\n",
        "\\frac{\\partial\\cal L}{\\partial h^{(L)}} = \\frac{\\partial \\cal L}{\\partial u^{(L+1)}} \\cdot \\frac{\\partial u^{(L+1)} }{\\partial h^{(L)}} \n",
        "\\end{equation}\n",
        "\n",
        "\n",
        "\\begin{equation}\n",
        "\\frac{\\partial\\cal L}{\\partial h_{ij}^{(L)}} = \\frac{\\partial \\cal L}{\\partial u_{a}^{(L+1)}} \\cdot \\frac{\\partial u_{a}^{(L+1)} }{\\partial h_{ij}^{(L)}} \n",
        "\\end{equation}\n",
        "\n",
        "\\begin{equation}\n",
        "\\frac{\\partial\\cal L}{\\partial h_{ij}^{(L)}} = \\frac{\\partial \\cal L}{\\partial u_{a}^{(L+1)}} \\cdot \\frac{\\partial h_{ab}^{(L)} U_{b} + c  }{\\partial h_{ij}^{(L)}} \n",
        "\\end{equation}\n",
        "\n",
        "In this moment we can clearly see that the only expression different than 0 are \n",
        "when $a=i,  b=j$\n",
        "\n",
        "\\begin{equation}\n",
        "\\frac{\\partial\\cal L}{\\partial h_{ij}^{(L)}} = \\frac{\\partial \\cal L}{\\partial u_{i}^{(L+1)}} \\cdot \\frac{\\partial h_{ij}^{(L)} U_{j} + c  }{\\partial h_{ij}^{(L)}} \n",
        "\\end{equation}\n",
        "\n",
        "\\begin{equation}\n",
        "\\frac{\\partial\\cal L}{\\partial h_{ij}^{(L)}} = \\frac{\\partial \\cal L}{\\partial u_{i}^{(L+1)}} \\cdot  U_{j} \n",
        "\\end{equation}\n",
        "\n",
        "We can see what we have is a tensorial product, the particular thing about this operation is that is not actually implemented in pytorch but can be simulated if we \"change\" the form of the tensor U which has dimension (D3,D2) to (D2,D3), doing this we can apply a normal matricial multiplication between $\\frac{\\partial \\cal L}{\\partial u_{i}^{(L+1)}}$ and $ (U_{j})^T $. It is also important to notice that the dimensions of $u_{i}^{(L+1)}$ are (D1,D2) Finally the result of this operation will have dimensions (D1,D3)\n",
        "\n",
        "\\begin{equation}\n",
        "\\frac{\\partial\\cal L}{\\partial h^{(L)}} = \\frac{\\partial \\cal L}{\\partial u^{(L+1)}} \\cdot  (U)^T \n",
        "\\end{equation}\n",
        "\n",
        "<br>"
      ]
    },
    {
      "cell_type": "markdown",
      "metadata": {
        "id": "1WNYoTIHXDS0"
      },
      "source": [
        "## 2c) Derivating hidden layers"
      ]
    },
    {
      "cell_type": "markdown",
      "metadata": {
        "id": "vz7TChQ8XDS0"
      },
      "source": [
        "<br>\n",
        "In this step we will be derivating $\\frac{\\partial\\cal L}{\\partial u^{(k)}}$ for each one of the activation functions we detailed before, it is also necessary to assume that $\\frac{\\partial\\cal L}{\\partial h^{(k)}}$ it is already calculated at this point:\n",
        "\n",
        "* Relu:\n",
        "\n",
        "\\begin{equation}\n",
        "\\frac{\\partial\\cal L}{\\partial u^{(k)}} = \\frac{\\partial\\cal L}{\\partial h^{(k)}} \\cdot \\frac{\\partial h^{(k)}}{\\partial u^{(k)}}\n",
        "\\end{equation}\n",
        "<br>\n",
        "\n",
        "\\begin{equation}\n",
        "\\frac{\\partial\\cal L}{\\partial u^{(k)}}_{ij} = \\frac{\\partial\\cal L}{\\partial h^{(k)}}_{ab} \\cdot \\frac{\\partial h^{(k)}_{ab}}{\\partial u^{(k)}_{ij}} = \\frac{\\partial\\cal L}{\\partial h^{(k)}}_{ij} \\cdot \\frac{ \\partial relu(u^{(k)}_{ij}) }{\\partial u^{(k)}_{ij}} = \\frac{\\partial\\cal L}{\\partial h^{(k)}}_{ij} \\cdot \\cal K_{ij} \n",
        "\\begin{cases}\n",
        "  1 \\text{ if } u_{ij} \\geq0 \\\\\n",
        "  0 \\text{ otherwise.} \\\\ \n",
        "\\end{cases}\n",
        "\\end{equation}\n",
        "\n",
        "\n",
        "---\n",
        "\n",
        "* Celu: In the specific case of this function we will be calling $\\alpha^{k}$ the parameter stored in our model that will be used for the expected `CELU` activation function in the layer $k$\n",
        "\n",
        "<br>\n",
        "\n",
        "\\begin{equation}\n",
        "\\frac{\\partial\\cal L}{\\partial u^{(k)}}_{ij} = \\frac{\\partial\\cal L}{\\partial h^{(k)}}_{ab} \\cdot \\frac{\\partial h^{(k)}_{ab}}{\\partial u^{(k)}_{ij}} = \\frac{\\partial\\cal L}{\\partial h^{(k)}}_{ij} \\cdot \\frac{ \\partial celu(u^{(k)}_{ij}, \\alpha^{k}) }{\\partial u^{(k)}_{ij}} = \\frac{\\partial\\cal L}{\\partial h^{(k)}}_{ij} \\cdot \\cal K_{ij} \n",
        "\\begin{cases}\n",
        "  1 \\text{ if } u_{ij} \\geq0 \\\\ \n",
        "  e^{\\frac{x}{\\alpha}} \\text{ otherwise.} \\\\ \n",
        "\\end{cases}\n",
        "\\end{equation}\n",
        "\n",
        "<br>\n",
        "\n",
        "Now we need to calculate $\\frac{\\partial\\cal L}{\\partial \\alpha^k}$ we will write it as well in terms of the chain rule as follows:\n",
        "\n",
        "\\begin{equation}\n",
        "\\frac{\\partial\\cal L}{\\partial \\alpha^k} = \\frac{\\partial\\cal L}{\\partial h^{(k)}} \\cdot \\frac{\\partial h^{(k)}}{\\partial \\alpha^k}\n",
        "\\end{equation}\n",
        "\n",
        "\\begin{equation}\n",
        "\\frac{\\partial\\cal L}{\\partial \\alpha^k} = \\frac{\\partial\\cal L}{\\partial h^{(k)}} \\cdot \\frac{\\partial celu(u^k,\\alpha^k)}{\\partial \\alpha^k}\n",
        "\\end{equation}\n",
        "\n",
        "\\begin{equation}\n",
        "\\frac{\\partial\\cal L}{\\partial \\alpha^k} = \\frac{\\partial\\cal L}{\\partial h^{(k)}_{ij}} \\cdot \\frac{\\partial celu(u^k_{ij},\\alpha^k)}{\\partial \\alpha^k}\n",
        "\\end{equation}\n",
        "\n",
        "\\begin{equation}\n",
        "\\frac{\\partial\\cal L}{\\partial \\alpha^k} = \\frac{\\partial\\cal L}{\\partial h^{(k)}_{ij}} \\cdot \\cal K_{ij}\n",
        "\\begin{cases}\n",
        "  0 \\text{ if } u_{ij} \\geq0 \\\\\n",
        "  e^{\\frac{u_{ij}}{\\alpha}} \\cdot (1 - \\frac{u_ij}{\\alpha}) - 1 \\text{ otherwise.}\n",
        "\\end{cases}\n",
        "\\end{equation}\n",
        "\n",
        "---\n",
        "\n",
        "* Swish\n",
        "\n",
        "<br>\n",
        "\n",
        "\\begin{equation}\n",
        "\\frac{\\partial\\cal L}{\\partial u^{(k)}}_{ij} = \\frac{\\partial\\cal L}{\\partial h^{(k)}}_{ab} \\cdot \\frac{\\partial h^{(k)}_{ab}}{\\partial u^{(k)}_{ij}} = \\frac{\\partial\\cal L}{\\partial h^{(k)}}_{ij} \\cdot \\frac{ \\partial swish(u^{(k)}_{ij}, \\beta^{k}) }{\\partial u^{(k)}_{ij}} = \\frac{\\partial\\cal L}{\\partial h^{(k)}}_{ij} \\cdot swish(u^{(k)}_{ij},\\beta) \\cdot (\\frac{1}{u^{(k)}_{ij} \\cdot \\beta} + 1 - \\frac{swish(u^{(k)}_{ij},\\beta)}{u^{(k)}_{ij}} )\n",
        "\\end{equation}\n",
        "\n",
        "\n",
        "<br>\n",
        "\n",
        "Now we need to calculate $\\frac{\\partial\\cal L}{\\partial \\beta^k}$ we will write it as well in terms of the chain rule as follows:\n",
        "\n",
        "\\begin{equation}\n",
        "\\frac{\\partial\\cal L}{\\partial \\beta^k} = \\frac{\\partial\\cal L}{\\partial h^{(k)}} \\cdot \\frac{\\partial h^{(k)}}{\\partial \\beta^k}\n",
        "\\end{equation}\n",
        "\n",
        "\\begin{equation}\n",
        "\\frac{\\partial\\cal L}{\\partial \\beta^k} = \\frac{\\partial\\cal L}{\\partial h^{(k)}} \\cdot \\frac{\\partial swish(u^k,\\beta^k)}{\\partial \\beta^k}\n",
        "\\end{equation}\n",
        "\n",
        "\\begin{equation}\n",
        "\\frac{\\partial\\cal L}{\\partial \\beta^k} = \\frac{\\partial\\cal L}{\\partial h^{(k)}} \\cdot swish(u^k,\\beta^k) \\cdot (u^k - swish(u^k,\\beta^k))\n",
        "\\end{equation}\n",
        "\n",
        "\n",
        "\n",
        "---\n",
        "\n",
        "This section is no more than the generalization of the previous derivative expressions we calculated for the output layer:\n",
        "\n",
        "\n",
        "<br>\n",
        "\n",
        "\\begin{equation}\n",
        "\\frac{\\partial\\cal L}{\\partial W^{(k)}} = (h^{k-1})^T \\cdot \\frac{\\partial \\cal L}{u^k}\n",
        "\\end{equation}\n",
        "<br>\n",
        "\n",
        "\\begin{equation}\n",
        "\\frac{\\partial\\cal L}{\\partial b^{(k)}} = Sum(\\frac{\\partial \\cal L}{\\partial u^{(k)}})\n",
        "\\end{equation}\n",
        "<br>\n",
        "\n",
        "\\begin{equation}\n",
        "\\frac{\\partial\\cal L}{\\partial h^{(k-1)}} = \\frac{\\partial \\cal L}{\\partial u^{(k)}} \\cdot  (W^k)^T \n",
        "\\end{equation}\n",
        "<br>"
      ]
    },
    {
      "cell_type": "markdown",
      "metadata": {
        "id": "0n29s-6zXDS1"
      },
      "source": [
        "# Part 3: Backpropagation "
      ]
    },
    {
      "cell_type": "code",
      "metadata": {
        "id": "ytN2y-FMXDS3"
      },
      "source": [
        "class FFNN(torch.nn.Module):\n",
        "  def create_extra_parameters(self, extra):\n",
        "    if extra:\n",
        "      res = []\n",
        "      for p in extra:\n",
        "        if p:\n",
        "          res.append(nn.Parameter(torch.tensor(p)))\n",
        "        else:\n",
        "          res.append(nn.Parameter(None))\n",
        "      self.extra_params = nn.ParameterList(res)\n",
        "    else:\n",
        "      self.extra_params = None\n",
        "\n",
        "  def create_parameters(self, h_l, l_a, C, extra=None,initial_weights=None):\n",
        "    internal_layers = []\n",
        "    internal_biases = []\n",
        "    for i in range(0, len(h_l)-1):\n",
        "      if initial_weights:\n",
        "        # The structure with initial weights for the `lth` layer will be (W,b)\n",
        "        # We need to ensure that the dimensions of the data MATCH with the model\n",
        "        current_weights = initial_weights[i][0]\n",
        "        current_bias = initial_weights[i][1]\n",
        "        if len(current_weights) != h_l[i] or len(current_weights[0]) != h_l[i+1] or len(current_bias) != h_l[i+1]:\n",
        "          raise Exception(\"Dimension mismatch\")\n",
        "        else:\n",
        "          internal_layers.append(nn.Parameter(current_weights))\n",
        "          internal_biases.append(nn.Parameter(current_bias))\n",
        "      else:\n",
        "        internal_layers.append(nn.Parameter(torch.randn(h_l[i],h_l[i+1])))\n",
        "        internal_biases.append(nn.Parameter(torch.zeros(h_l[i+1])))\n",
        "\n",
        "    self.h_weights = nn.ParameterList(internal_layers)\n",
        "    self.biases = nn.ParameterList(internal_biases)\n",
        "    self.activation_functions = l_a[:-1]\n",
        "\n",
        "    self.create_extra_parameters(extra)\n",
        "\n",
        "    # Output Layer, bias (c), and softmax \n",
        "    # It is important to notice the use of ParameterList also for this layer\n",
        "    # This is because the nn.Parameter directly is not being reflected in the \n",
        "    # print(model) method and that is the one being used for the summary \n",
        "\n",
        "    if initial_weights:\n",
        "      # Is expected that the last position of `initial_weights` is (U,c)\n",
        "      output_weights = initial_weights[-1][0]\n",
        "      output_bias = initial_weights[-1][1]\n",
        "\n",
        "      if len(output_weights) != h_l[-1] or len(output_weights[0]) != C or len(output_bias) != C:\n",
        "          raise Exception(\"Dimension mismatch\")\n",
        "      else:\n",
        "        self.output_weights = nn.ParameterList([nn.Parameter(output_weights)])\n",
        "        self.output_bias = nn.ParameterList([nn.Parameter(output_bias)])\n",
        "    else:\n",
        "      self.output_weights = nn.ParameterList([nn.Parameter(torch.randn(h_l[-1],C))])\n",
        "      self.output_bias = nn.ParameterList([nn.Parameter(torch.zeros(C))])\n",
        "    self.output_function = l_a[-1]\n",
        "\n",
        "  def __init__(self, F, l_h, l_a, C, extra=None, initial_weights=None):\n",
        "    super(FFNN, self).__init__()\n",
        "    \n",
        "    if len(l_h)+1 != len(l_a):\n",
        "      raise Exception(\"Dimension mismatch\")\n",
        "    if extra and len(extra) != len(l_a):\n",
        "      raise Exception(\"Dimension mismatch\")\n",
        "    if initial_weights and len(initial_weights) != (len(l_h) + 1):\n",
        "      print(len(initial_weights),(len(l_h) + 1))\n",
        "      raise Exception(\"Dimension mismatch\")\n",
        "\n",
        "    self.create_parameters([F]+l_h,l_a,C,extra,initial_weights)\n",
        "  \n",
        "  def summary(self):\n",
        "    \n",
        "    # In this case the summary is being show using the string method defined in the class\n",
        "    # because is easy to see the details of all the internal parameters\n",
        "    # also the use of this string method is the reason of addding output weights\n",
        "    # as a paremetertList to be able to see it Listed here. \n",
        "\n",
        "    print(f\"#######MODEL SUMMARY#######\\n\")\n",
        "    print(f\"Input Layer size: {self.h_weights[0].size()[0]}\\n\")\n",
        "    print(\"Internal params detail:\")\n",
        "    print(f\"{self}\")\n",
        "    print(f\"Activation Functions{[f.__name__ for f in self.activation_functions+[self.output_function]]}\\n\")\n",
        "    print(f\"Output Layer size: {self.output_weights[0].size()[1]}\\n\")\n",
        "    print(f\"Total trainable Parameters: { sum(p.numel() for p in self.parameters() if p.requires_grad)}\")\n",
        "    print(f\"Total Parameters: { sum(p.numel() for p in self.parameters())}\\n\")\n",
        "    print(f\"########SUMMARY END########\\n\\n\")\n",
        "  \n",
        "  def forward(self, x):\n",
        "    cache = {\"hs\":[], \"us\":[] }\n",
        "    for i in range(0, len(self.h_weights)):\n",
        "      # Validation to retrieve the possible extra params for the i_th activation function\n",
        "      current_extras = [self.extra_params[i]] if self.extra_params and not self.extra_params[i].nelement() == 0 else []\n",
        "\n",
        "      u = x @ self.h_weights[i] + self.biases[i]\n",
        "\n",
        "      # x = h for practical effects we are just updating the input variable\n",
        "      x = self.activation_functions[i](u,*current_extras)\n",
        "      cache[\"hs\"].append(x)\n",
        "      cache[\"us\"].append(u)\n",
        "    self.cache = cache\n",
        "\n",
        "    # Validation to retrieve the possible extra params for the output activation function\n",
        "    output_extras = [self.extra_params[-1].data] if self.extra_params and not self.extra_params[-1].nelement() == 0 else []\n",
        "    # print(output_extras)\n",
        "\n",
        "    # y' = x * U + c\n",
        "    x = self.output_function(torch.matmul(x,self.output_weights[0]) + self.output_bias[0],*output_extras)\n",
        "    return x\n",
        "\n",
        "  def backward(self, x, y, y_pred):\n",
        "    b = x.size()[0]\n",
        "\n",
        "    dl_du = (1/b) * (y_pred - y)\n",
        "    self.output_weights[0].grad = self.cache[\"hs\"][-1].t() @ dl_du\n",
        "    self.output_bias[0].grad = torch.sum(dl_du, 0)\n",
        "    current_dl_dh = dl_du @ self.output_weights[-1].t()\n",
        "\n",
        "    for i in range(len(self.h_weights)-1,-1,-1):\n",
        "      # extract extra param for activation function in layer i\n",
        "      current_extras = [self.extra_params[i].data] if  self.extra_params and not self.extra_params[i].nelement() == 0 else []\n",
        "\n",
        "      # calculating dl_du^k\n",
        "      current_dl_du = current_dl_dh * activation_dx[self.activation_functions[i].__name__](self.cache[\"us\"][i],*current_extras)\n",
        "\n",
        "      # in case there is a trainable parameter we calculate it is grad\n",
        "      if current_extras:\n",
        "        \n",
        "        res = torch.mean(\n",
        "          torch.flatten(\n",
        "            (\n",
        "              current_dl_dh * activation_dp[self.activation_functions[i].__name__](self.cache[\"us\"][i],*current_extras)\n",
        "            )\n",
        "          )\n",
        "        )\n",
        "        current_extras[0].grad = res\n",
        "      # special condition to set x as the first h_i\n",
        "      h_k = self.cache[\"hs\"][i-1] if i > 0 else x\n",
        "      \n",
        "      # dl_dw^k\n",
        "      self.h_weights[i].grad = h_k.t() @ current_dl_du\n",
        "      \n",
        "      #dl_db^k\n",
        "      self.biases[i].grad =  torch.sum(current_dl_du, 0)\n",
        "\n",
        "      #dl_dh^(k-1)\n",
        "      current_dl_dh = current_dl_du @ self.h_weights[i].t()"
      ],
      "execution_count": 20,
      "outputs": []
    },
    {
      "cell_type": "code",
      "metadata": {
        "id": "tCbj3h5oGgVe",
        "outputId": "35a4791d-7ea8-4e4f-a4a8-344cdbec696c",
        "colab": {
          "base_uri": "https://localhost:8080/",
          "height": 561
        }
      },
      "source": [
        "# Running random model with random input to verify the forward it is working and the extra params as well\n",
        "\n",
        "demo_network = FFNN(2,[3,4],[swish,swish,softmax],5,extra=[2.0,1.0,None])\n",
        "demo_network.summary()\n",
        "demo_input = torch.randn(25,2)\n",
        "demo_output = torch.randn(25,5)\n",
        "demo_network.backward(demo_input,demo_output,demo_network(demo_input))\n"
      ],
      "execution_count": 37,
      "outputs": [
        {
          "output_type": "stream",
          "text": [
            "#######MODEL SUMMARY#######\n",
            "\n",
            "Input Layer size: 2\n",
            "\n",
            "Internal params detail:\n",
            "FFNN(\n",
            "  (h_weights): ParameterList(\n",
            "      (0): Parameter containing: [torch.FloatTensor of size 2x3]\n",
            "      (1): Parameter containing: [torch.FloatTensor of size 3x4]\n",
            "  )\n",
            "  (biases): ParameterList(\n",
            "      (0): Parameter containing: [torch.FloatTensor of size 3]\n",
            "      (1): Parameter containing: [torch.FloatTensor of size 4]\n",
            "  )\n",
            "  (extra_params): ParameterList(\n",
            "      (0): Parameter containing: [torch.FloatTensor of size ]\n",
            "      (1): Parameter containing: [torch.FloatTensor of size ]\n",
            "      (2): Parameter containing: [torch.FloatTensor of size 0]\n",
            "  )\n",
            "  (output_weights): ParameterList(  (0): Parameter containing: [torch.FloatTensor of size 4x5])\n",
            "  (output_bias): ParameterList(  (0): Parameter containing: [torch.FloatTensor of size 5])\n",
            ")\n",
            "Activation Functions['swish', 'swish', 'softmax']\n",
            "\n",
            "Output Layer size: 5\n",
            "\n",
            "Total trainable Parameters: 52\n",
            "Total Parameters: 52\n",
            "\n",
            "########SUMMARY END########\n",
            "\n",
            "\n"
          ],
          "name": "stdout"
        }
      ]
    },
    {
      "cell_type": "code",
      "metadata": {
        "id": "5toquvf9cYA7"
      },
      "source": [
        "# Simple method to format the pre-trained weights to the accepted structure \n",
        "# basically we expect to have U and c in the last position of Ws and bs\n",
        "def format_initial_weights(Ws,bs,U,c):\n",
        "  new_w = Ws + [U]\n",
        "  new_b = bs + [c]\n",
        "\n",
        "  new_w = [torch.tensor(w) for w in new_w]\n",
        "  new_b = [torch.tensor(b) for b in new_b]\n",
        "  return list(zip(new_w,new_b))"
      ],
      "execution_count": 38,
      "outputs": []
    },
    {
      "cell_type": "code",
      "metadata": {
        "id": "1S3suoQ2tZfX",
        "outputId": "9cd24b6e-0042-4fec-8db0-4e8e82df2af0",
        "colab": {
          "base_uri": "https://localhost:8080/",
          "height": 51
        }
      },
      "source": [
        "# Runnig more automatic test this time for the whole model with mnist pre trained data \n",
        "for test in ['mnist-model']:\n",
        "  F, l_h, l_a, C, Ws, U, bs, c, X, y = corrector.get_test_data(homework=2, question=\"3a\", test=test, token=token)\n",
        "  l_a = [f for s in l_a for f in [sig, tanh, relu, celu] if f.__name__ == s]\n",
        "\n",
        "  # we also add the output function as the last position of the activation functions\n",
        "\n",
        "  l_a.append(softmax)\n",
        "  your_model = FFNN(F,l_h,l_a,C,initial_weights=format_initial_weights(Ws,bs,U,c))\n",
        "  \n",
        "  idx = next(i for i, p in enumerate(your_model.parameters()) if p.size() == torch.Tensor(Ws[1]).size() and torch.all(torch.Tensor(Ws[1])==p))\n",
        "\n",
        "  # Testing forward\n",
        "  y_pred = your_model(torch.Tensor(X))\n",
        "  \n",
        "  # Testing backward\n",
        "  s = timer()\n",
        "  your_model.backward(torch.Tensor(X), torch.Tensor(y), y_pred)\n",
        "  t = timer() - s\n",
        "  \n",
        "  corrector.sumbit(homework=2, question=\"3a\", test=test, token=token, \n",
        "                   answer=list(your_model.parameters())[idx].grad.mean(), time=0)"
      ],
      "execution_count": 39,
      "outputs": [
        {
          "output_type": "stream",
          "text": [
            "Using cached test data\n",
            "Correct Test!\n"
          ],
          "name": "stdout"
        }
      ]
    },
    {
      "cell_type": "markdown",
      "metadata": {
        "id": "SDSYiQQ6nkjX"
      },
      "source": [
        "# Part 4: Gradient Descent and optimization"
      ]
    },
    {
      "cell_type": "markdown",
      "metadata": {
        "id": "yqBwusuXnsjO"
      },
      "source": [
        "## 4a) Stochastic gradient descent"
      ]
    },
    {
      "cell_type": "code",
      "metadata": {
        "id": "tId-cHk7ntDW"
      },
      "source": [
        "class SGD():\n",
        "  def __init__(self, parameters, lr):\n",
        "    self.parameters = parameters\n",
        "    self.lr = lr\n",
        "  \n",
        "  def step(self):\n",
        "    for p in self.parameters:\n",
        "      if p.grad is not None:\n",
        "        p.data -= lr * p.grad"
      ],
      "execution_count": 25,
      "outputs": []
    },
    {
      "cell_type": "code",
      "metadata": {
        "id": "yN9Bh70SJGgI",
        "outputId": "ba49863d-ddc6-4e9f-f05c-6c661dab5c76",
        "colab": {
          "base_uri": "https://localhost:8080/",
          "height": 119
        }
      },
      "source": [
        "# Some automatic test for the SGD class implemented\n",
        "from torch.nn import Parameter\n",
        "for test in ['small-step', 'big-step', 'random']:\n",
        "  ds, gs, lr, idx = corrector.get_test_data(homework=2, question=\"4a\", test=test, token=token)\n",
        "  parameters = [Parameter(torch.Tensor(d)) for d in ds]\n",
        "  for p, g in zip(parameters, gs):\n",
        "    p.grad = torch.Tensor(g)\n",
        "\n",
        "  optimizer = SGD(parameters, lr)\n",
        "\n",
        "  # basically we run the step() method and we expect that the parameters change in terms of the grad\n",
        "  s = timer()\n",
        "  optimizer.step()\n",
        "  t = timer() - s\n",
        "\n",
        "  corrector.sumbit(homework=2, question=\"4a\", test=test, token=token, \n",
        "                   answer=parameters[idx].data, time=0)"
      ],
      "execution_count": 40,
      "outputs": [
        {
          "output_type": "stream",
          "text": [
            "Using cached test data\n",
            "Correct Test!\n",
            "Using cached test data\n",
            "Correct Test!\n",
            "Using cached test data\n",
            "Correct Test!\n"
          ],
          "name": "stdout"
        }
      ]
    },
    {
      "cell_type": "markdown",
      "metadata": {
        "id": "wy0KFSX4nzP0"
      },
      "source": [
        "## 4b) Pseudo Random dataset\n",
        "What we will be using in this test is a custom torch dataset that will be filled with random points (x, y) between -50 and 50, in addition we will have a particular line equation (can be any other) and what we will do is assign a class value to all the pairs (x,y) that are above the line and another class value for the ones below."
      ]
    },
    {
      "cell_type": "code",
      "metadata": {
        "id": "bByG7kXlnwAQ"
      },
      "source": [
        "from torch.utils.data import Dataset, DataLoader\n",
        "\n",
        "class RandomDataset(Dataset):\n",
        "  def __init__(self, N, F, C):\n",
        "\n",
        "    eval = lambda x : 2 * x -1\n",
        "\n",
        "    x_random_data = [ torch.randint(low=-50,high=50,size=(F,)) for i in range(N)]\n",
        "    \n",
        "    y_data = []\n",
        "\n",
        "    for i in range(N):\n",
        "      ct = torch.zeros(C)\n",
        "      c = 1 if x_random_data[i][1] > eval(x_random_data[i][0]) else 0\n",
        "      ct[c] = 1\n",
        "      y_data.append(ct)\n",
        "\n",
        "    self.x_data = x_random_data\n",
        "    self.y_data = y_data\n",
        "  \n",
        "  def __len__(self):\n",
        "    return len(self.y_data)\n",
        "  def __getitem__(self, i):\n",
        "    return (self.x_data[i],self.y_data[i])"
      ],
      "execution_count": 43,
      "outputs": []
    },
    {
      "cell_type": "code",
      "metadata": {
        "id": "x49Wy06IsJDU",
        "outputId": "31676a1e-c999-43ef-b073-478dced2ca5e",
        "colab": {
          "base_uri": "https://localhost:8080/",
          "height": 51
        }
      },
      "source": [
        "# We create an specific size dataset with the previous details\n",
        "# An important note is that we are working here with only 2 clases for the line test problem\n",
        "# But even with only two classes we are using 2 neurons in the output layer instead of 1 \n",
        "# which is more common in binary classification problems\n",
        "\n",
        "N,F,C = 1000,2,2\n",
        "your_dataset = RandomDataset(N,F,C)\n",
        "\n",
        "# Testing the len and get method to be sure that our dataset it is working perfectly\n",
        "print(\"Correct Test!\" if len(your_dataset) == N else \"Failed Test [len]\") \n",
        "print(\"Correct Test!\" if type(your_dataset[N//2]) == tuple and len(your_dataset[N//3]) == 2 else \"Failed Test [getitem]\")"
      ],
      "execution_count": 44,
      "outputs": [
        {
          "output_type": "stream",
          "text": [
            "Correct Test!\n",
            "Correct Test!\n"
          ],
          "name": "stdout"
        }
      ]
    },
    {
      "cell_type": "markdown",
      "metadata": {
        "id": "2-q8vJOMn3AA"
      },
      "source": [
        "## 4c) Training and optimizing\n",
        "In this section we will be covering the full training cicle that is commonly use for classification problems, we will be splitting the data in shuffled batches, and we will be storing `loss` and `acc` as metrics. \n",
        "\n",
        "It is important to note the use of `collate_fn` to apply any special transformation our data needs before go through our models."
      ]
    },
    {
      "cell_type": "code",
      "metadata": {
        "id": "oufOfvyIRvAT"
      },
      "source": [
        "import matplotlib.pyplot as plt\n",
        "\n",
        "def plot_results(loss, acc):\n",
        "  # Muestra dos figuras: \n",
        "  #  (1) gráfico para la lista `loss` (Loss) y \n",
        "  #  (2) gráfico para la lista `acc` (Accuracy)\n",
        "\n",
        "  f1 = plt.figure(1)\n",
        "  ax1 = f1.add_subplot(111)\n",
        "  ax1.set_title(\"Loss\")    \n",
        "  ax1.set_xlabel('epochs')\n",
        "  ax1.set_ylabel('loss')\n",
        "  ax1.plot(loss, c='r')\n",
        "  f1.show()\n",
        "\n",
        "  f2 = plt.figure(2)\n",
        "  ax2 = f2.add_subplot(111)\n",
        "  ax2.set_title(\"Accuracy\")    \n",
        "  ax2.set_xlabel('epochs')\n",
        "  ax2.set_ylabel('acc')\n",
        "  ax2.plot(acc, c='b')\n",
        "  f2.show()"
      ],
      "execution_count": 45,
      "outputs": []
    },
    {
      "cell_type": "code",
      "metadata": {
        "id": "Ap0AKJijn5DY"
      },
      "source": [
        "def train(network, dataset, optimizer, epochs=1, batch_size=1, device='cuda', collate=None):\n",
        "  network.to(device)\n",
        "  data = DataLoader(dataset,batch_size=batch_size,shuffle=True,collate_fn=collate)\n",
        "  loss, acc = [], []\n",
        "  for e in range(1,epochs+1):\n",
        "    acc_c = 0\n",
        "    loss_c = 0\n",
        "    for x, y in data:\n",
        "      x, y = x.to(device).float(), y.to(device)\n",
        "      y_pred = network(x)\n",
        "      loss_c += CELoss(y_pred,y).item()\n",
        "      acc_c += torch.sum((torch.argmax(y_pred, 1) == torch.argmax(y,1))).item()\n",
        "      network.backward(x,y,y_pred)\n",
        "      optimizer.step()\n",
        "    \n",
        "    print(acc_c/len(dataset),loss_c/len(dataset)*batch_size)\n",
        "    acc.append(acc_c/len(dataset))\n",
        "    loss.append(loss_c/len(dataset)*batch_size)\n",
        "  return loss, acc"
      ],
      "execution_count": 46,
      "outputs": []
    },
    {
      "cell_type": "code",
      "metadata": {
        "id": "M0VbGtY5aWLk",
        "outputId": "eee655bf-dcd4-422b-e53f-4bd056febc62",
        "colab": {
          "base_uri": "https://localhost:8080/",
          "height": 743
        }
      },
      "source": [
        "lr = 0.1\n",
        "dataset = your_dataset\n",
        "#Test using the default values (fixed) for beta and alpha \n",
        "model = FFNN(2,[4,2,1],[relu,celu,swish,softmax],2)\n",
        "optimizer = SGD(list(model.parameters()), lr)\n",
        "with torch.no_grad():\n",
        "  loss, acc = train(model, dataset, optimizer,epochs=10,batch_size=10)\n",
        "  plot_results(loss, acc)"
      ],
      "execution_count": 52,
      "outputs": [
        {
          "output_type": "stream",
          "text": [
            "0.655 0.6240301698446273\n",
            "0.914 0.2754802828282118\n",
            "0.952 0.1727602213434875\n",
            "0.962 0.12677285826765\n",
            "0.977 0.09020339602604509\n",
            "0.972 0.08815628078766168\n",
            "0.951 0.16333982303738592\n",
            "0.948 0.18762649744749071\n",
            "0.936 0.2125882208812982\n",
            "0.945 0.19466030478477478\n"
          ],
          "name": "stdout"
        },
        {
          "output_type": "display_data",
          "data": {
            "image/png": "[encoded data removed]",
            "text/plain": [
              "<Figure size 432x288 with 1 Axes>"
            ]
          },
          "metadata": {
            "tags": [],
            "needs_background": "light"
          }
        },
        {
          "output_type": "display_data",
          "data": {
            "image/png": "[encoded data removed]",
            "text/plain": [
              "<Figure size 432x288 with 1 Axes>"
            ]
          },
          "metadata": {
            "tags": [],
            "needs_background": "light"
          }
        }
      ]
    },
    {
      "cell_type": "code",
      "metadata": {
        "id": "OtP9-3znooZJ",
        "outputId": "e99d2ba4-e3ae-47d8-8029-135067eea947",
        "colab": {
          "base_uri": "https://localhost:8080/",
          "height": 743
        }
      },
      "source": [
        "lr = 0.001\n",
        "dataset = your_dataset\n",
        "#Test using trainable values for beta and alpha \n",
        "model = FFNN(2,[1,1],[celu,swish,softmax],2,extra=[1.0,2.0,None])\n",
        "optimizer = SGD(list(model.parameters()), lr)\n",
        "with torch.no_grad():\n",
        "  loss, acc = train(model, dataset, optimizer,epochs=10,batch_size=10)\n",
        "  plot_results(loss, acc)"
      ],
      "execution_count": 58,
      "outputs": [
        {
          "output_type": "stream",
          "text": [
            "0.754 1.5803084759414197\n",
            "0.755 1.198969918638468\n",
            "0.761 0.7657430194318294\n",
            "0.76 0.565640804618597\n",
            "0.759 0.5549801677465439\n",
            "0.759 0.552185063958168\n",
            "0.76 0.5499166771769524\n",
            "0.761 0.5468572986125946\n",
            "0.764 0.544082068502903\n",
            "0.762 0.5422098842263222\n"
          ],
          "name": "stdout"
        },
        {
          "output_type": "display_data",
          "data": {
            "image/png": "[encoded data removed]",
            "text/plain": [
              "<Figure size 432x288 with 1 Axes>"
            ]
          },
          "metadata": {
            "tags": [],
            "needs_background": "light"
          }
        },
        {
          "output_type": "display_data",
          "data": {
            "image/png": "[encoded data removed]",
            "text/plain": [
              "<Figure size 432x288 with 1 Axes>"
            ]
          },
          "metadata": {
            "tags": [],
            "needs_background": "light"
          }
        }
      ]
    },
    {
      "cell_type": "code",
      "metadata": {
        "id": "LteSsc6bpQL9",
        "outputId": "b5166205-0bd7-4b7c-9516-907a2b7ed951",
        "colab": {
          "base_uri": "https://localhost:8080/",
          "height": 743
        }
      },
      "source": [
        "# using > 1 lr and single layer\n",
        "lr = 3\n",
        "dataset = your_dataset\n",
        "\n",
        "#Test using trainable values for beta and alpha \n",
        "model = FFNN(2,[4],[celu,softmax],2,extra=[2.0,None])\n",
        "optimizer = SGD(list(model.parameters()), lr)\n",
        "with torch.no_grad():\n",
        "  loss, acc = train(model, dataset, optimizer,epochs=10,batch_size=10)\n",
        "  plot_results(loss, acc)"
      ],
      "execution_count": 62,
      "outputs": [
        {
          "output_type": "stream",
          "text": [
            "0.844 2.857222785949707\n",
            "0.891 2.007854220867157\n",
            "0.911 1.6394406020641328\n",
            "0.905 1.7499647009372712\n",
            "0.884 2.13679900765419\n",
            "0.879 2.228902418613434\n",
            "0.893 1.971012887954712\n",
            "0.884 2.136798986196518\n",
            "0.881 2.192061060667038\n",
            "0.893 1.971012873649597\n"
          ],
          "name": "stdout"
        },
        {
          "output_type": "display_data",
          "data": {
            "image/png": "[encoded data removed]",
            "text/plain": [
              "<Figure size 432x288 with 1 Axes>"
            ]
          },
          "metadata": {
            "tags": [],
            "needs_background": "light"
          }
        },
        {
          "output_type": "display_data",
          "data": {
            "image/png": "[encoded data removed]",
            "text/plain": [
              "<Figure size 432x288 with 1 Axes>"
            ]
          },
          "metadata": {
            "tags": [],
            "needs_background": "light"
          }
        }
      ]
    },
    {
      "cell_type": "markdown",
      "metadata": {
        "id": "ICCODVV9oF9d"
      },
      "source": [
        "## 4e) Training using MNIST dataset in trainable mode"
      ]
    },
    {
      "cell_type": "code",
      "metadata": {
        "id": "-cRIuWQroDW9",
        "outputId": "d5731c7f-591f-4d8c-a738-2992632565a9",
        "colab": {
          "base_uri": "https://localhost:8080/",
          "height": 34
        }
      },
      "source": [
        "from torchvision.datasets import MNIST\n",
        "from torchvision.transforms import ToTensor\n",
        "\n",
        "\n",
        "# Downloading and storing MNIST dataset in trainable mode.\n",
        "dataset_m = MNIST('mnist', train=True, transform=ToTensor(), download=True)\n",
        "print('Total data:',len(dataset_m))"
      ],
      "execution_count": 63,
      "outputs": [
        {
          "output_type": "stream",
          "text": [
            "Total data: 60000\n"
          ],
          "name": "stdout"
        }
      ]
    },
    {
      "cell_type": "code",
      "metadata": {
        "id": "izZ21XgCjZtM"
      },
      "source": [
        "# this is the collate_fn will be use to apply the needed transformations to our input\n",
        "# also we need to transform our class scalar to one-hot vector\n",
        "\n",
        "def custom_collate(batch):\n",
        "  x_data = [x[0].view(28*28) for x in batch ]\n",
        "\n",
        "  y_data = []\n",
        "\n",
        "  for t in batch:\n",
        "    ct = torch.zeros(10)\n",
        "    ct[t[1]] = 1\n",
        "    y_data.append(ct)\n",
        "  return torch.stack(x_data),torch.stack(y_data)"
      ],
      "execution_count": 64,
      "outputs": []
    },
    {
      "cell_type": "code",
      "metadata": {
        "id": "2sWpXRqMf3vG",
        "outputId": "3f2a1b8e-cb59-4740-d8d5-5fb2a1ae15a3",
        "colab": {
          "base_uri": "https://localhost:8080/",
          "height": 187
        }
      },
      "source": [
        "lr = 0.01\n",
        "dataset = dataset_m\n",
        "model = FFNN(784,[32,16],[celu,swish,softmax],10)\n",
        "optimizer = SGD(list(model.parameters()), lr)\n",
        "with torch.no_grad():\n",
        "  loss, acc = train(model, dataset, optimizer,epochs=10,batch_size=100,collate=custom_collate)\n"
      ],
      "execution_count": 65,
      "outputs": [
        {
          "output_type": "stream",
          "text": [
            "0.20016666666666666 3.468949151436488\n",
            "0.19208333333333333 2.2419752422968546\n",
            "0.198 2.183111221988996\n",
            "0.20531666666666668 2.144855509797732\n",
            "0.21285 2.1118507287899653\n",
            "0.21853333333333333 2.083959363301595\n",
            "0.2248 2.0538953644037248\n",
            "0.23645 2.022638626495997\n",
            "0.2644666666666667 1.987115829984347\n",
            "0.2829333333333333 1.9442875665426254\n"
          ],
          "name": "stdout"
        }
      ]
    },
    {
      "cell_type": "code",
      "metadata": {
        "id": "TUDCfZkygkJ-",
        "outputId": "9de555a2-8c26-40b2-917e-38e6f40aba77",
        "colab": {
          "base_uri": "https://localhost:8080/",
          "height": 573
        }
      },
      "source": [
        "plot_results(loss,acc)"
      ],
      "execution_count": 66,
      "outputs": [
        {
          "output_type": "display_data",
          "data": {
            "image/png": "[encoded data removed]",
            "text/plain": [
              "<Figure size 432x288 with 1 Axes>"
            ]
          },
          "metadata": {
            "tags": [],
            "needs_background": "light"
          }
        },
        {
          "output_type": "display_data",
          "data": {
            "image/png": "[encoded data removed]",
            "text/plain": [
              "<Figure size 432x288 with 1 Axes>"
            ]
          },
          "metadata": {
            "tags": [],
            "needs_background": "light"
          }
        }
      ]
    },
    {
      "cell_type": "markdown",
      "metadata": {
        "id": "YJvPINgPqd8F"
      },
      "source": [
        "## Conclusions and Future work:\n",
        "\n",
        "After going for the entire process of doing the backpropagation and calculing gradients it is much more easy to understand what can be happening at low level in one of our models. It is also valuable the understanding of the `loss` functions and how they affect the entire performance of our experiments.\n",
        "\n",
        "Regarding future work and improvements:\n",
        "* Implement the network without splitting the layers between output and hidden but handling the output one as `layers[-1]` this will result in a more compact version of the network class.\n",
        "\n",
        "* Extend the way we are handling extra params to be able to accept activatin functions with more than one parameter or even higher dimensional parameters.\n",
        "\n",
        "* Test with different activation functions\n",
        "\n",
        "* Implement a different optimizer like `adam` or any variation of it.\n",
        "\n",
        "* Code cleaning from the first task like replacing any `matmul` operation by @\n"
      ]
    }
  ]
}